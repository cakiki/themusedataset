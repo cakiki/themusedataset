{
 "cells": [
  {
   "cell_type": "markdown",
   "metadata": {},
   "source": [
    "# A Tour of the MuSe Dataset\n",
    "\n",
    "Lorem ipsum dolor sit amet, consectetur adipiscing elit, sed do eiusmod tempor incididunt ut labore et dolore magna aliqua. Ut enim ad minim veniam, quis nostrud exercitation ullamco laboris nisi ut aliquip ex ea commodo consequat. Duis aute irure dolor in reprehenderit in voluptate velit esse cillum dolore eu fugiat nulla pariatur. Excepteur sint occaecat cupidatat non proident, sunt in culpa qui officia deserunt mollit anim id est laborum."
   ]
  },
  {
   "cell_type": "code",
   "execution_count": 1,
   "metadata": {},
   "outputs": [
    {
     "data": {
      "text/html": [
       "<style>.container { width:80% !important; }</style>"
      ],
      "text/plain": [
       "<IPython.core.display.HTML object>"
      ]
     },
     "metadata": {},
     "output_type": "display_data"
    }
   ],
   "source": [
    "from IPython.core.display import display, HTML\n",
    "display(HTML(\"<style>.container { width:80% !important; }</style>\"))\n",
    "import pandas as pd"
   ]
  },
  {
   "cell_type": "code",
   "execution_count": 2,
   "metadata": {},
   "outputs": [
    {
     "name": "stdout",
     "output_type": "stream",
     "text": [
      "CPU times: user 14.4 s, sys: 637 ms, total: 15 s\n",
      "Wall time: 15 s\n"
     ]
    }
   ],
   "source": [
    "%%time\n",
    "muse = pd.read_pickle('muse_final.pkl')"
   ]
  },
  {
   "cell_type": "code",
   "execution_count": 3,
   "metadata": {},
   "outputs": [
    {
     "data": {
      "text/html": [
       "<div>\n",
       "<style scoped>\n",
       "    .dataframe tbody tr th:only-of-type {\n",
       "        vertical-align: middle;\n",
       "    }\n",
       "\n",
       "    .dataframe tbody tr th {\n",
       "        vertical-align: top;\n",
       "    }\n",
       "\n",
       "    .dataframe thead th {\n",
       "        text-align: right;\n",
       "    }\n",
       "</style>\n",
       "<table border=\"1\" class=\"dataframe\">\n",
       "  <thead>\n",
       "    <tr style=\"text-align: right;\">\n",
       "      <th></th>\n",
       "      <th>track</th>\n",
       "      <th>artist</th>\n",
       "      <th>valence_tags</th>\n",
       "      <th>arousal_tags</th>\n",
       "      <th>dominance_tags</th>\n",
       "      <th>mbid</th>\n",
       "      <th>spotify_id</th>\n",
       "    </tr>\n",
       "  </thead>\n",
       "  <tbody>\n",
       "    <tr>\n",
       "      <th>0</th>\n",
       "      <td>'Till I Collapse</td>\n",
       "      <td>Eminem</td>\n",
       "      <td>4.550000</td>\n",
       "      <td>5.273125</td>\n",
       "      <td>5.690625</td>\n",
       "      <td>cab93def-26c5-4fb0-bedd-26ec4c1619e1</td>\n",
       "      <td>4xkOaSrkexMciUUogZKVTS</td>\n",
       "    </tr>\n",
       "    <tr>\n",
       "      <th>1</th>\n",
       "      <td>St. Anger</td>\n",
       "      <td>Metallica</td>\n",
       "      <td>3.710000</td>\n",
       "      <td>5.833000</td>\n",
       "      <td>5.427250</td>\n",
       "      <td>727a2529-7ee8-4860-aef6-7959884895cb</td>\n",
       "      <td>3fOc9x06lKJBhz435mInlH</td>\n",
       "    </tr>\n",
       "    <tr>\n",
       "      <th>2</th>\n",
       "      <td>Speedin'</td>\n",
       "      <td>Rick Ross</td>\n",
       "      <td>3.080000</td>\n",
       "      <td>5.870000</td>\n",
       "      <td>5.490000</td>\n",
       "      <td>NaN</td>\n",
       "      <td>3Y96xd4Ce0J47dcalLrEC8</td>\n",
       "    </tr>\n",
       "    <tr>\n",
       "      <th>3</th>\n",
       "      <td>Bamboo Banga</td>\n",
       "      <td>M.I.A.</td>\n",
       "      <td>6.555071</td>\n",
       "      <td>5.537214</td>\n",
       "      <td>5.691357</td>\n",
       "      <td>99dd2c8c-e7c1-413e-8ea4-4497a00ffa18</td>\n",
       "      <td>6tqFC1DIOphJkCwrjVzPmg</td>\n",
       "    </tr>\n",
       "    <tr>\n",
       "      <th>4</th>\n",
       "      <td>Die MF Die</td>\n",
       "      <td>Dope</td>\n",
       "      <td>3.771176</td>\n",
       "      <td>5.348235</td>\n",
       "      <td>5.441765</td>\n",
       "      <td>b9eb3484-5e0e-4690-ab5a-ca91937032a5</td>\n",
       "      <td>5bU4KX47KqtDKKaLM4QCzh</td>\n",
       "    </tr>\n",
       "    <tr>\n",
       "      <th>...</th>\n",
       "      <td>...</td>\n",
       "      <td>...</td>\n",
       "      <td>...</td>\n",
       "      <td>...</td>\n",
       "      <td>...</td>\n",
       "      <td>...</td>\n",
       "      <td>...</td>\n",
       "    </tr>\n",
       "    <tr>\n",
       "      <th>96494</th>\n",
       "      <td>Transparent (Full Version)</td>\n",
       "      <td>Second Chyld</td>\n",
       "      <td>5.370000</td>\n",
       "      <td>3.450000</td>\n",
       "      <td>5.330000</td>\n",
       "      <td>NaN</td>\n",
       "      <td>NaN</td>\n",
       "    </tr>\n",
       "    <tr>\n",
       "      <th>96495</th>\n",
       "      <td>Unfold</td>\n",
       "      <td>Message To Bears</td>\n",
       "      <td>3.340000</td>\n",
       "      <td>1.405000</td>\n",
       "      <td>3.500000</td>\n",
       "      <td>247179b0-af1f-4c2b-b4fe-751070d1c0cc</td>\n",
       "      <td>14BYEOeRb3jzglJmKX8eM2</td>\n",
       "    </tr>\n",
       "    <tr>\n",
       "      <th>96496</th>\n",
       "      <td>Grow</td>\n",
       "      <td>MillionYoung</td>\n",
       "      <td>NaN</td>\n",
       "      <td>NaN</td>\n",
       "      <td>NaN</td>\n",
       "      <td>3925c8e9-e61d-4d0e-b48c-98fc999ca3c7</td>\n",
       "      <td>5iL9k9th7z54s3uOSL81Y4</td>\n",
       "    </tr>\n",
       "    <tr>\n",
       "      <th>96497</th>\n",
       "      <td>Caged Birds</td>\n",
       "      <td>Coil</td>\n",
       "      <td>NaN</td>\n",
       "      <td>NaN</td>\n",
       "      <td>NaN</td>\n",
       "      <td>NaN</td>\n",
       "      <td>1FSR0OZHWb4FGMxwgrUiev</td>\n",
       "    </tr>\n",
       "    <tr>\n",
       "      <th>96498</th>\n",
       "      <td>Fade Away</td>\n",
       "      <td>A Temple of Mirrors</td>\n",
       "      <td>NaN</td>\n",
       "      <td>NaN</td>\n",
       "      <td>NaN</td>\n",
       "      <td>NaN</td>\n",
       "      <td>NaN</td>\n",
       "    </tr>\n",
       "  </tbody>\n",
       "</table>\n",
       "<p>96499 rows × 7 columns</p>\n",
       "</div>"
      ],
      "text/plain": [
       "                            track               artist  valence_tags  \\\n",
       "0                'Till I Collapse               Eminem      4.550000   \n",
       "1                       St. Anger            Metallica      3.710000   \n",
       "2                        Speedin'            Rick Ross      3.080000   \n",
       "3                    Bamboo Banga               M.I.A.      6.555071   \n",
       "4                      Die MF Die                 Dope      3.771176   \n",
       "...                           ...                  ...           ...   \n",
       "96494  Transparent (Full Version)         Second Chyld      5.370000   \n",
       "96495                      Unfold     Message To Bears      3.340000   \n",
       "96496                        Grow         MillionYoung           NaN   \n",
       "96497                 Caged Birds                 Coil           NaN   \n",
       "96498                   Fade Away  A Temple of Mirrors           NaN   \n",
       "\n",
       "       arousal_tags  dominance_tags                                  mbid  \\\n",
       "0          5.273125        5.690625  cab93def-26c5-4fb0-bedd-26ec4c1619e1   \n",
       "1          5.833000        5.427250  727a2529-7ee8-4860-aef6-7959884895cb   \n",
       "2          5.870000        5.490000                                   NaN   \n",
       "3          5.537214        5.691357  99dd2c8c-e7c1-413e-8ea4-4497a00ffa18   \n",
       "4          5.348235        5.441765  b9eb3484-5e0e-4690-ab5a-ca91937032a5   \n",
       "...             ...             ...                                   ...   \n",
       "96494      3.450000        5.330000                                   NaN   \n",
       "96495      1.405000        3.500000  247179b0-af1f-4c2b-b4fe-751070d1c0cc   \n",
       "96496           NaN             NaN  3925c8e9-e61d-4d0e-b48c-98fc999ca3c7   \n",
       "96497           NaN             NaN                                   NaN   \n",
       "96498           NaN             NaN                                   NaN   \n",
       "\n",
       "                   spotify_id  \n",
       "0      4xkOaSrkexMciUUogZKVTS  \n",
       "1      3fOc9x06lKJBhz435mInlH  \n",
       "2      3Y96xd4Ce0J47dcalLrEC8  \n",
       "3      6tqFC1DIOphJkCwrjVzPmg  \n",
       "4      5bU4KX47KqtDKKaLM4QCzh  \n",
       "...                       ...  \n",
       "96494                     NaN  \n",
       "96495  14BYEOeRb3jzglJmKX8eM2  \n",
       "96496  5iL9k9th7z54s3uOSL81Y4  \n",
       "96497  1FSR0OZHWb4FGMxwgrUiev  \n",
       "96498                     NaN  \n",
       "\n",
       "[96499 rows x 7 columns]"
      ]
     },
     "execution_count": 3,
     "metadata": {},
     "output_type": "execute_result"
    }
   ],
   "source": [
    "muse[['track', 'artist', 'valence_tags', 'arousal_tags', 'dominance_tags', 'mbid', 'spotify_id']]"
   ]
  },
  {
   "cell_type": "code",
   "execution_count": 16,
   "metadata": {},
   "outputs": [],
   "source": [
    "df = muse[~muse[['valence_tags', 'arousal_tags', 'dominance_tags']].isna().any(axis=1)]\n",
    "df = df[['track', 'artist', 'valence_tags', 'arousal_tags', 'dominance_tags', 'mbid', 'spotify_id']]"
   ]
  },
  {
   "cell_type": "code",
   "execution_count": 26,
   "metadata": {},
   "outputs": [],
   "source": [
    "df.reset_index(drop=True).reset_index().rename(columns={'index':'id'}).to_csv('muse_dataset.csv', index=False)\n",
    "df.reset_index(drop=True).reset_index().rename(columns={'index':'id'}).to_json('muse_dataset.jsonl', lines=True, orient='records')"
   ]
  },
  {
   "cell_type": "code",
   "execution_count": 4,
   "metadata": {},
   "outputs": [],
   "source": [
    "muse.to_csv('muse_final.csv')"
   ]
  },
  {
   "cell_type": "code",
   "execution_count": 7,
   "metadata": {},
   "outputs": [],
   "source": [
    "muse[:10].to_csv('muse_sample.csv')"
   ]
  }
 ],
 "metadata": {
  "kernelspec": {
   "display_name": "Python 3",
   "language": "python",
   "name": "python3"
  },
  "language_info": {
   "codemirror_mode": {
    "name": "ipython",
    "version": 3
   },
   "file_extension": ".py",
   "mimetype": "text/x-python",
   "name": "python",
   "nbconvert_exporter": "python",
   "pygments_lexer": "ipython3",
   "version": "3.8.6"
  }
 },
 "nbformat": 4,
 "nbformat_minor": 4
}
