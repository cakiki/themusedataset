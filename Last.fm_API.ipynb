{
 "cells": [
  {
   "cell_type": "code",
   "execution_count": 1,
   "id": "dutch-joyce",
   "metadata": {},
   "outputs": [
    {
     "data": {
      "text/html": [
       "<style>.container { width:80% !important; }</style>"
      ],
      "text/plain": [
       "<IPython.core.display.HTML object>"
      ]
     },
     "metadata": {},
     "output_type": "display_data"
    }
   ],
   "source": [
    "from IPython.core.display import display, HTML\n",
    "display(HTML(\"<style>.container { width:80% !important; }</style>\"))"
   ]
  },
  {
   "cell_type": "code",
   "execution_count": 6,
   "id": "answering-enforcement",
   "metadata": {},
   "outputs": [],
   "source": [
    "import spotipy\n",
    "from spotipy.oauth2 import SpotifyClientCredentials\n",
    "from spotipy import SpotifyException\n",
    "import pylast as lastfm\n",
    "import pandas as pd"
   ]
  },
  {
   "cell_type": "markdown",
   "id": "modern-illness",
   "metadata": {},
   "source": [
    "```python\n",
    "API_KEY = 'xxxxxxxxxxxxxxxxxx'\n",
    "API_SECRET = 'xxxxxxxxxxxxxxxxxx'\n",
    "```"
   ]
  },
  {
   "cell_type": "code",
   "execution_count": 76,
   "id": "active-croatia",
   "metadata": {},
   "outputs": [],
   "source": [
    "network = lastfm.LastFMNetwork(api_key=API_KEY, api_secret=API_SECRET)"
   ]
  },
  {
   "cell_type": "code",
   "execution_count": 9,
   "id": "military-closing",
   "metadata": {},
   "outputs": [
    {
     "data": {
      "text/html": [
       "<div>\n",
       "<style scoped>\n",
       "    .dataframe tbody tr th:only-of-type {\n",
       "        vertical-align: middle;\n",
       "    }\n",
       "\n",
       "    .dataframe tbody tr th {\n",
       "        vertical-align: top;\n",
       "    }\n",
       "\n",
       "    .dataframe thead th {\n",
       "        text-align: right;\n",
       "    }\n",
       "</style>\n",
       "<table border=\"1\" class=\"dataframe\">\n",
       "  <thead>\n",
       "    <tr style=\"text-align: right;\">\n",
       "      <th></th>\n",
       "      <th>id</th>\n",
       "      <th>track</th>\n",
       "      <th>artist</th>\n",
       "      <th>valence_tags</th>\n",
       "      <th>arousal_tags</th>\n",
       "      <th>dominance_tags</th>\n",
       "      <th>mbid</th>\n",
       "      <th>spotify_id</th>\n",
       "    </tr>\n",
       "  </thead>\n",
       "  <tbody>\n",
       "    <tr>\n",
       "      <th>0</th>\n",
       "      <td>0</td>\n",
       "      <td>'Till I Collapse</td>\n",
       "      <td>Eminem</td>\n",
       "      <td>4.55</td>\n",
       "      <td>5.273125</td>\n",
       "      <td>5.690625</td>\n",
       "      <td>cab93def-26c5-4fb0-bedd-26ec4c1619e1</td>\n",
       "      <td>4xkOaSrkexMciUUogZKVTS</td>\n",
       "    </tr>\n",
       "    <tr>\n",
       "      <th>1</th>\n",
       "      <td>1</td>\n",
       "      <td>St. Anger</td>\n",
       "      <td>Metallica</td>\n",
       "      <td>3.71</td>\n",
       "      <td>5.833000</td>\n",
       "      <td>5.427250</td>\n",
       "      <td>727a2529-7ee8-4860-aef6-7959884895cb</td>\n",
       "      <td>3fOc9x06lKJBhz435mInlH</td>\n",
       "    </tr>\n",
       "    <tr>\n",
       "      <th>2</th>\n",
       "      <td>2</td>\n",
       "      <td>Speedin'</td>\n",
       "      <td>Rick Ross</td>\n",
       "      <td>3.08</td>\n",
       "      <td>5.870000</td>\n",
       "      <td>5.490000</td>\n",
       "      <td>NaN</td>\n",
       "      <td>3Y96xd4Ce0J47dcalLrEC8</td>\n",
       "    </tr>\n",
       "  </tbody>\n",
       "</table>\n",
       "</div>"
      ],
      "text/plain": [
       "   id             track     artist  valence_tags  arousal_tags  \\\n",
       "0   0  'Till I Collapse     Eminem          4.55      5.273125   \n",
       "1   1         St. Anger  Metallica          3.71      5.833000   \n",
       "2   2          Speedin'  Rick Ross          3.08      5.870000   \n",
       "\n",
       "   dominance_tags                                  mbid  \\\n",
       "0        5.690625  cab93def-26c5-4fb0-bedd-26ec4c1619e1   \n",
       "1        5.427250  727a2529-7ee8-4860-aef6-7959884895cb   \n",
       "2        5.490000                                   NaN   \n",
       "\n",
       "               spotify_id  \n",
       "0  4xkOaSrkexMciUUogZKVTS  \n",
       "1  3fOc9x06lKJBhz435mInlH  \n",
       "2  3Y96xd4Ce0J47dcalLrEC8  "
      ]
     },
     "execution_count": 9,
     "metadata": {},
     "output_type": "execute_result"
    }
   ],
   "source": [
    "muse = pd.read_csv('muse_dataset.csv')\n",
    "muse.head(3)"
   ]
  },
  {
   "cell_type": "code",
   "execution_count": 74,
   "id": "bizarre-speaker",
   "metadata": {},
   "outputs": [
    {
     "name": "stdout",
     "output_type": "stream",
     "text": [
      "artist: Billy Bragg\n",
      "track: Island Of No Return (LP Version)\n"
     ]
    }
   ],
   "source": [
    "random_sample = muse.sample(1)\n",
    "track = random_sample['track'].to_list()[0]\n",
    "artist = random_sample['artist'].to_list()[0]\n",
    "print(f'artist: {artist}\\ntrack: {track}')"
   ]
  },
  {
   "cell_type": "code",
   "execution_count": 75,
   "id": "practical-sharp",
   "metadata": {},
   "outputs": [
    {
     "name": "stdout",
     "output_type": "stream",
     "text": [
      "{'instrumental': 100, 'punk': 100, 'latin': 100, 'political': 100, 'folk rock': 100, 'irish': 100, 'british folk': 100, '1984': 100, 'france': 100, 'Europe': 100, 'Cerebral': 100, 'Protest': 100, 'red wedge': 100, 'falklands war': 100, 'recommended by rwitte': 100, 'recommended to mvordeme': 100, 'recommended to babs05': 100, 'rjw best 2010': 100, 'streamable but unstreamable': 100}\n"
     ]
    }
   ],
   "source": [
    "track = network.search_for_track(artist, track).get_next_page()[0]\n",
    "top_tags = track.get_top_tags(100)\n",
    "tags = {tag_item.item.get_name():int(tag_item.weight) for tag_item in top_tags}\n",
    "print(tags)"
   ]
  }
 ],
 "metadata": {
  "kernelspec": {
   "display_name": "Python 3",
   "language": "python",
   "name": "python3"
  },
  "language_info": {
   "codemirror_mode": {
    "name": "ipython",
    "version": 3
   },
   "file_extension": ".py",
   "mimetype": "text/x-python",
   "name": "python",
   "nbconvert_exporter": "python",
   "pygments_lexer": "ipython3",
   "version": "3.8.6"
  }
 },
 "nbformat": 4,
 "nbformat_minor": 5
}
